{
 "cells": [
  {
   "cell_type": "markdown",
   "id": "c0262ae6",
   "metadata": {},
   "source": [
    "# Linear Search"
   ]
  },
  {
   "cell_type": "code",
   "execution_count": 1,
   "id": "bf6e5ea3",
   "metadata": {},
   "outputs": [
    {
     "name": "stdout",
     "output_type": "stream",
     "text": [
      "The element is present at index 3\n"
     ]
    }
   ],
   "source": [
    "def linear_search(arr, element):\n",
    "    for i in range(0, len(arr)):\n",
    "        if (arr[i] == element):\n",
    "            return i\n",
    "    return -1\n",
    "\n",
    "arr = [5,15,6,9,4]\n",
    "element = 9\n",
    "\n",
    "searched_element = linear_search(arr, element)\n",
    "\n",
    "if searched_element != -1:\n",
    "    print(f\"The element is present at index {searched_element}\")\n",
    "else:\n",
    "    print(\"Element not present in an array\")\n"
   ]
  },
  {
   "cell_type": "code",
   "execution_count": 2,
   "id": "39082240",
   "metadata": {},
   "outputs": [
    {
     "name": "stdout",
     "output_type": "stream",
     "text": [
      "Name is found at index 0\n"
     ]
    }
   ],
   "source": [
    "def element_search(arr, name):\n",
    "    \n",
    "    for i in range(0, len(arr)):\n",
    "        if arr[i] == name:\n",
    "            return i\n",
    "    return -1\n",
    "\n",
    "arr = [\"sakshi\", \"vishad\", \"mrinalini\", \"dhairya\", \"naincy\"]\n",
    "name = \"sakshi\"\n",
    "\n",
    "name_search = element_search(arr, name)\n",
    "\n",
    "if name_search != -1:\n",
    "    print(f\"Name is found at index {name_search}\")\n",
    "else:\n",
    "    print(\"name is not present in a list\")\n"
   ]
  },
  {
   "cell_type": "markdown",
   "id": "cb8c91da",
   "metadata": {},
   "source": [
    "# Binary SEARCH"
   ]
  },
  {
   "cell_type": "markdown",
   "id": "5d4f4092",
   "metadata": {},
   "source": [
    "Ascending binary search"
   ]
  },
  {
   "cell_type": "code",
   "execution_count": 3,
   "id": "776f421e",
   "metadata": {
    "scrolled": true
   },
   "outputs": [
    {
     "name": "stdout",
     "output_type": "stream",
     "text": [
      " Element is present at index 6\n"
     ]
    }
   ],
   "source": [
    "def binary_search(arr, element):\n",
    "    start = 0\n",
    "    end = len(arr) -1\n",
    "    \n",
    "    while start <= end:\n",
    "        \n",
    "        mid = int(start +(end-start) /2)\n",
    "        \n",
    "#         mid = int((start + end) /2)\n",
    "\n",
    "        \n",
    "        if arr[mid] == element:\n",
    "            return mid\n",
    "        elif arr[mid] > element:\n",
    "            end = mid -1\n",
    "        # arr[mid] <x\n",
    "        else: \n",
    "            start = mid +1\n",
    "\n",
    "    return -1\n",
    "\n",
    "arr = [1,2,3,4,5,6,7,8,9,10]\n",
    "element = 7\n",
    "    \n",
    "#fucntion call\n",
    "\n",
    "result = binary_search(arr,element)\n",
    "\n",
    "if result != -1:\n",
    "    print(f\" Element is present at index {result}\")\n",
    "else: \n",
    "    print(f\" Element is not present in array\")\n",
    "          \n",
    "    "
   ]
  },
  {
   "cell_type": "code",
   "execution_count": null,
   "id": "fce7916f",
   "metadata": {},
   "outputs": [],
   "source": []
  },
  {
   "cell_type": "markdown",
   "id": "2da2761a",
   "metadata": {},
   "source": [
    "Binary Search on Reverse Sorted Array"
   ]
  },
  {
   "cell_type": "code",
   "execution_count": 4,
   "id": "821bd17f",
   "metadata": {},
   "outputs": [
    {
     "name": "stdout",
     "output_type": "stream",
     "text": [
      "Element present at index 4\n"
     ]
    }
   ],
   "source": [
    "def binary_search_reverse_element(arr_list, to_be_searched):\n",
    "    start = 0\n",
    "    end = len(arr_list) -1\n",
    "    while start <= end:\n",
    "        mid  = int(start + (end-start)/2)\n",
    "        \n",
    "        if arr_list[mid]== to_be_searched:\n",
    "            return mid\n",
    "        elif arr_list[mid] > to_be_searched:\n",
    "            start= mid + 1\n",
    "        else:\n",
    "            end = mid - 1\n",
    "    return -1\n",
    "\n",
    "arr_list = [20,17,15,14,13,12,10,9,8,4]\n",
    "to_be_searched = 13\n",
    "\n",
    "searched_result = binary_search_reverse_element(arr_list, to_be_searched)\n",
    "\n",
    "if searched_result != -1:\n",
    "    print(f\"Element present at index {searched_result}\")\n",
    "else: \n",
    "    print(f\"Element not present in array\")"
   ]
  },
  {
   "cell_type": "code",
   "execution_count": 5,
   "id": "612b3c06",
   "metadata": {},
   "outputs": [
    {
     "name": "stdout",
     "output_type": "stream",
     "text": [
      "Element not present in the array\n"
     ]
    }
   ],
   "source": [
    "def binary_search_order_agnostic(arr_ag, search_element):\n",
    "    start = 0\n",
    "    end = len(arr_ag) -1\n",
    "    \n",
    "    isAsc = arr_ag[start] < arr_ag[end]\n",
    "    \n",
    "    while (start <= end):\n",
    "        \n",
    "        mid = int(start + (end-start)/2 )\n",
    "        \n",
    "        if arr_ag == search_element:\n",
    "            return mid\n",
    "        \n",
    "        if (isAsc == True):\n",
    "            if (arr_ag[mid] > search_element):\n",
    "                end = mid -1\n",
    "            else:\n",
    "                start = mid +1\n",
    "                \n",
    "        else:\n",
    "            if (arr_ag[mid] > search_element):\n",
    "                start = mid +1\n",
    "            else:\n",
    "                end = mid -1\n",
    "    \n",
    "    return -1\n",
    "\n",
    "arr_ag = [ 40, 10, 5, 2, 1 ]\n",
    "search_element= 1\n",
    "\n",
    "result_ag = binary_search_order_agnostic(arr_ag, search_element)\n",
    "\n",
    "if result_ag != -1:\n",
    "    print(f\"Element present at index {result_ag}\")\n",
    "else:\n",
    "    print(\"Element not present in the array\")\n",
    "            \n",
    "    "
   ]
  },
  {
   "cell_type": "code",
   "execution_count": 6,
   "id": "116152f1",
   "metadata": {},
   "outputs": [
    {
     "name": "stdout",
     "output_type": "stream",
     "text": [
      "Element not present in the array\n"
     ]
    }
   ],
   "source": [
    "def binary_search_order_agnostic(arr_ag, search_element):\n",
    "    start = 0\n",
    "    end = len(arr_ag) -1\n",
    "    \n",
    "    while (start <= end):\n",
    "        \n",
    "        mid = int(start + (end-start)/2 )\n",
    "        \n",
    "        if arr[mid] == search_element:\n",
    "            return mid\n",
    "        \n",
    "        if (arr_ag[start] < arr_ag[end]):\n",
    "            if (arr_ag[mid] > search_element):\n",
    "                end = mid -1\n",
    "            else:\n",
    "                start = mid +1\n",
    "                \n",
    "        else:\n",
    "            if (arr_ag[mid] > search_element):\n",
    "                start = mid +1\n",
    "            else:\n",
    "                end = mid -1\n",
    "    \n",
    "    return -1\n",
    "\n",
    "arr_ag = [ 40, 10, 5, 2, 1 ]\n",
    "search_element= 1\n",
    "\n",
    "result_ag = binary_search_order_agnostic(arr_ag, search_element)\n",
    "\n",
    "if result_ag != -1:\n",
    "    print(f\"Element present at index {result_ag}\")\n",
    "else:\n",
    "    print(\"Element not present in the array\")"
   ]
  },
  {
   "cell_type": "code",
   "execution_count": null,
   "id": "a8b2b8f1",
   "metadata": {},
   "outputs": [],
   "source": []
  },
  {
   "cell_type": "markdown",
   "id": "749a60a1",
   "metadata": {},
   "source": [
    "First and last occurance of an element"
   ]
  },
  {
   "cell_type": "code",
   "execution_count": 25,
   "id": "de0742ee",
   "metadata": {
    "scrolled": true
   },
   "outputs": [
    {
     "name": "stdout",
     "output_type": "stream",
     "text": [
      "First occurance of a number is 4\n"
     ]
    }
   ],
   "source": [
    "def occurance(arr_first_last, target_number):\n",
    "    output_first = first_occurance(arr_first_last, target_number)\n",
    "    output_last = last_occurance(arr_first_last, target_number)\n",
    "    \n",
    "    if output_first != -1:\n",
    "        return f\"First occurance of a number is {output_first}\"\n",
    "    elif output_last != -1:\n",
    "        return f\"First occurance of a number is {output_last}\"\n",
    "    else:\n",
    "        return \"Number is not found in the array\"\n",
    "        \n",
    "        \n",
    "\n",
    "def first_occurance(arr_first_last, target_number):\n",
    "    start = 0\n",
    "    end = len(arr_first_last) -1\n",
    "    res = -1\n",
    "    \n",
    "    while start <= end:\n",
    "        mid = int((start + (end-start)/2))\n",
    "        \n",
    "        if (arr_first_last[mid] == target_number):\n",
    "            res = mid\n",
    "            end = mid -1\n",
    "            \n",
    "        elif (arr_first_last[mid] < target_number):\n",
    "            start = mid + 1\n",
    "        \n",
    "        else:\n",
    "            end = mid -1\n",
    "    return res\n",
    "\n",
    "\n",
    "def last_occurance(arr_first_last, target_number):\n",
    "    start = 0\n",
    "    end = len(arr_first_last) -1\n",
    "    res = -1\n",
    "    \n",
    "    while start <= end:\n",
    "        mid = int((start + (end-start)/2))\n",
    "        \n",
    "        if (arr_first_last[mid] == target_number):\n",
    "            res = mid\n",
    "            start = mid + 1\n",
    "            \n",
    "        elif (arr_first_last[mid] < target_number):\n",
    "            start = mid + 1\n",
    "        \n",
    "        else:\n",
    "            end = mid -1\n",
    "            \n",
    "    return res\n",
    "\n",
    "\n",
    "\n",
    "arr_first_last = [2,4,8,9,10,18,20]\n",
    "target_number =10\n",
    "\n",
    "# output_first = first_occurance(arr_first_last, target_number)\n",
    "# output_last = last_occurance(arr_first_last, target_number)\n",
    "\n",
    "# if output_first != -1:\n",
    "#     print(f\"First occurance of a number is {output_first}\")\n",
    "# else:\n",
    "#     print(\"Number is not found in the array\")\n",
    "    \n",
    "# if output_last != -1:\n",
    "#     print(f\"First occurance of a number is {output_last}\")\n",
    "# else:\n",
    "#     print(\"Number is not found in the array\")\n",
    "\n",
    "\n",
    "        \n",
    "print(occurance(arr_first_last, target_number))\n",
    "        \n",
    "    \n",
    "    "
   ]
  },
  {
   "cell_type": "code",
   "execution_count": null,
   "id": "4f11628d",
   "metadata": {},
   "outputs": [],
   "source": []
  },
  {
   "cell_type": "markdown",
   "id": "bc992120",
   "metadata": {},
   "source": [
    "Count of element in a sorted array"
   ]
  },
  {
   "cell_type": "code",
   "execution_count": 8,
   "id": "7a7a56b3",
   "metadata": {},
   "outputs": [
    {
     "name": "stdout",
     "output_type": "stream",
     "text": [
      "10 occurred 3 times in an array\n"
     ]
    }
   ],
   "source": [
    "def first(arr_x, x):\n",
    "    start = 0\n",
    "    end = len(arr_x) -1\n",
    "    result_x = -1\n",
    "    \n",
    "    while(start <= end):\n",
    "        mid = int(start + (end-start)/2)\n",
    "        \n",
    "        if arr_x[mid] == x:\n",
    "            result_x = mid\n",
    "            end =   mid -1\n",
    "        elif arr_x[mid] > x:\n",
    "            end = mid -1\n",
    "        else:\n",
    "            start = mid + 1\n",
    "            \n",
    "    return result_x\n",
    "    \n",
    "    \n",
    "def last(arr_x,x):\n",
    "    start = 0\n",
    "    end = len(arr_x) -1\n",
    "    result_x = -1\n",
    "    \n",
    "    while(start <= end):\n",
    "        mid = int(start + (end-start)/2)\n",
    "        \n",
    "        if arr_x[mid] == x:\n",
    "            result_x = mid\n",
    "            start = mid +1\n",
    "        elif arr_x[mid] > x:\n",
    "            end = mid -1\n",
    "        else:\n",
    "            start = mid + 1\n",
    "            \n",
    "    return result_x\n",
    "    \n",
    "def count_x(arr, x):\n",
    "    first_x = first(arr_x,x)\n",
    "    if (first_x ==  -1):\n",
    "        return 0\n",
    "    last_x = last(arr_x, x)\n",
    "    \n",
    "    return (last_x- first_x) + 1\n",
    "    \n",
    "\n",
    "    \n",
    "arr_x = [2,4,9,10,10,10,20]\n",
    "x = 10\n",
    "\n",
    "# first_x = first(arr_x,x)\n",
    "# last_x = last(arr_x, x)\n",
    "\n",
    "# count_x = (last_x - first_x) + 1\n",
    "# print(f\"Count of the occurance of the searched element {x} is {count_x}\")\n",
    "\n",
    "total_x = count_x(arr_x, x)\n",
    "print(f\"{x} occurred {total_x} times in an array\")\n",
    "\n"
   ]
  },
  {
   "cell_type": "code",
   "execution_count": null,
   "id": "4845635a",
   "metadata": {},
   "outputs": [],
   "source": []
  },
  {
   "cell_type": "markdown",
   "id": "65241d42",
   "metadata": {},
   "source": [
    "Number of Times a Sorted array is Rotated"
   ]
  },
  {
   "cell_type": "code",
   "execution_count": 9,
   "id": "15fbb5cc",
   "metadata": {},
   "outputs": [
    {
     "name": "stdout",
     "output_type": "stream",
     "text": [
      "Array is rotated 7 times\n"
     ]
    }
   ],
   "source": [
    "def rotationcount_binary_search(arr_r):\n",
    "    start_r = 0\n",
    "    end_r = len(arr_r) -1\n",
    "    \n",
    "    while(start_r <= end_r):\n",
    "        \n",
    "#         mid = start_r + (end_r - start_r) //2\n",
    "        mid = int(start_r + (end_r - start_r) /2)\n",
    "        prev = (mid -1 + (len(arr_r))) % (len(arr_r))\n",
    "        nex =  (mid + 1) % (len(arr_r))\n",
    "        \n",
    "        if ( arr_r[mid] < arr_r[prev] and arr_r[mid] <= arr_r[nex]):\n",
    "            return mid\n",
    "#         elif (arr_r[mid] <= arr_r[end_r]):\n",
    "#             end_r = mid -1\n",
    "#         elif (arr_r[mid] >= arr_r[start_r]):\n",
    "#             start_r = mid + 1       \n",
    "        elif (arr_r[mid] <= arr_r[end_r]):        \n",
    "            end_r = mid -1\n",
    "        elif (arr_r[start_r] <= arr_r[mid]):\n",
    "            start_r = mid + 1  \n",
    "    return 0 \n",
    "\n",
    "# arr_r = [5,5,6,7,8,9,10,11,14,0,0,0,0,1,1,2,3,4]\n",
    "arr_r = [3,4,5,6,7,8,9,1,2]\n",
    "#arr_r = [1,2,3,4]\n",
    "\n",
    "rot_count = rotationcount_binary_search(arr_r)\n",
    "\n",
    "print(f\"Array is rotated {rot_count} times\")\n",
    "    \n",
    "    "
   ]
  },
  {
   "cell_type": "code",
   "execution_count": null,
   "id": "7344a3c2",
   "metadata": {},
   "outputs": [],
   "source": []
  },
  {
   "cell_type": "markdown",
   "id": "91a4b5e6",
   "metadata": {},
   "source": [
    "Find an Element in a Rotated Sorted Array"
   ]
  },
  {
   "cell_type": "code",
   "execution_count": 27,
   "id": "85b46c02",
   "metadata": {},
   "outputs": [
    {
     "name": "stdout",
     "output_type": "stream",
     "text": [
      "Element present at index 1\n"
     ]
    }
   ],
   "source": [
    "def find_element(arr, element):\n",
    "    element_before_smallest_element = smallest_element_left_array(arr, element)\n",
    "    element_after_smallest_element = smallest_element_right_array(arr, element)\n",
    "    \n",
    "    if (element_before_smallest_element != -1):\n",
    "        return f\"Element present at index {element_before_smallest_element}\"\n",
    "    elif (element_after_smallest_element != -1):\n",
    "        return f\"Element present at index {element_after_smallest_element}\"\n",
    "    else:\n",
    "        return \"element not present in the array\"\n",
    "            \n",
    "\n",
    "def smallest_element(arr):\n",
    "    start = 0\n",
    "    end = len(arr) -1\n",
    "    \n",
    "    while (start <= end):\n",
    "        mid = start + (end-start)//2\n",
    "        previous = (mid - 1 + len(arr)) % len(arr)\n",
    "        next_ele = (mid + 1) % len(arr)\n",
    "        \n",
    "        if ( arr[mid] < arr[previous] and arr[mid] <= arr[next_ele]):\n",
    "            return mid\n",
    "        elif (arr[mid] <= arr[end]):\n",
    "            end = mid -1\n",
    "        elif (arr[mid] >= arr[start]):\n",
    "            start = mid + 1\n",
    "    return -1\n",
    "\n",
    "\n",
    "def smallest_element_left_array(arr, element):\n",
    "    start = 0\n",
    "    end = smallest_element_index -1\n",
    "    \n",
    "    while( start <= end):\n",
    "        \n",
    "        mid = start + (end-start) // 2\n",
    "        \n",
    "        if (arr[mid] == element):\n",
    "            return mid\n",
    "        elif (arr[mid] > element):\n",
    "            end = mid -1\n",
    "        else:\n",
    "            start = start + 1\n",
    "    return -1\n",
    "\n",
    "def smallest_element_right_array(arr, element):\n",
    "    start = smallest_element_index\n",
    "    end = len(arr) -1\n",
    "    \n",
    "    while( start <= end):\n",
    "        \n",
    "        mid = start + (end-start) // 2\n",
    "        \n",
    "        if (arr[mid] == element):\n",
    "            return mid\n",
    "        elif (arr[mid] > element):\n",
    "            end = mid -1\n",
    "        else:\n",
    "            start = start + 1\n",
    "    return -1\n",
    "\n",
    "arr = [11,12,15,18,2,5,6,8]\n",
    "element = 10\n",
    "\n",
    "smallest_element_index = smallest_element(arr)\n",
    "#print(smallest_element_index)\n",
    "\n",
    "\n",
    "print(find_element(arr, element))"
   ]
  },
  {
   "cell_type": "code",
   "execution_count": null,
   "id": "ee401f8a",
   "metadata": {},
   "outputs": [],
   "source": []
  },
  {
   "cell_type": "markdown",
   "id": "24d94341",
   "metadata": {},
   "source": [
    "Searching in a Nearly Sorted Array"
   ]
  },
  {
   "cell_type": "code",
   "execution_count": 11,
   "id": "95e61e1c",
   "metadata": {},
   "outputs": [
    {
     "name": "stdout",
     "output_type": "stream",
     "text": [
      "element is not listed in the array\n"
     ]
    }
   ],
   "source": [
    "def nearly_sorted(arr, target):\n",
    "    start = 0\n",
    "    end = len(arr) -1\n",
    "    \n",
    "    while(start <= end):\n",
    "        \n",
    "        mid = start + (end - start) //2\n",
    "        \n",
    "        if (arr[mid] == target):\n",
    "            return mid\n",
    "        elif ( mid -1 >= start and arr[mid-1] == target):\n",
    "            return mid - 1\n",
    "        elif (mid +1 <= end and arr[mid+1] == target ):\n",
    "            return mid + 1\n",
    "        elif (arr[mid -1] > target):\n",
    "            end = mid -2\n",
    "        else:\n",
    "            start =  mid + 2\n",
    "    return -1\n",
    "\n",
    "    \n",
    "arr = [5,10,30,20,40]\n",
    "target = 11\n",
    "\n",
    "target_element = nearly_sorted(arr, target)\n",
    "\n",
    "if target_element != -1:\n",
    "    print(f\"elemenet present at {target_element}\")\n",
    "else:\n",
    "    print(\"element is not listed in the array\")"
   ]
  },
  {
   "cell_type": "code",
   "execution_count": null,
   "id": "092a15bb",
   "metadata": {},
   "outputs": [],
   "source": []
  },
  {
   "cell_type": "markdown",
   "id": "71352db1",
   "metadata": {},
   "source": [
    "Floor of an element in a sorted array"
   ]
  },
  {
   "cell_type": "code",
   "execution_count": 45,
   "id": "b8a4bd1c",
   "metadata": {},
   "outputs": [
    {
     "name": "stdout",
     "output_type": "stream",
     "text": [
      "8\n"
     ]
    }
   ],
   "source": [
    "def floor_element(arr, element):\n",
    "    start = 0\n",
    "    end = len(arr) -1\n",
    "    res = -1\n",
    "    \n",
    "    while ( start <= end):\n",
    "        mid  = start + (end - start) //2\n",
    "        \n",
    "        if (arr[mid] == element):\n",
    "            return arr[mid]\n",
    "        elif (arr[mid] < element):\n",
    "            res = arr[mid]\n",
    "            start = mid +1\n",
    "        elif (arr[mid] > element):\n",
    "            end = mid -1 \n",
    "    return res\n",
    "        \n",
    "\n",
    "arr= [1,2,3,4,8,10,10,12,19]\n",
    "element = 9\n",
    "\n",
    "print(floor_element(arr, element))"
   ]
  },
  {
   "cell_type": "code",
   "execution_count": null,
   "id": "36a8735d",
   "metadata": {},
   "outputs": [],
   "source": []
  },
  {
   "cell_type": "markdown",
   "id": "282bd1b3",
   "metadata": {},
   "source": [
    "Ceil of an element in a sorted array"
   ]
  },
  {
   "cell_type": "code",
   "execution_count": null,
   "id": "1dd6626d",
   "metadata": {},
   "outputs": [],
   "source": []
  },
  {
   "cell_type": "code",
   "execution_count": 70,
   "id": "5b8a4681",
   "metadata": {},
   "outputs": [
    {
     "name": "stdout",
     "output_type": "stream",
     "text": [
      "-1\n"
     ]
    }
   ],
   "source": [
    "def ceil_element(arr, element):\n",
    "    start = 0\n",
    "    end = len(arr) -1\n",
    "    res = -1\n",
    "    \n",
    "    while (start <= end):\n",
    "        \n",
    "        mid = start + (end - start) //2\n",
    "        \n",
    "        if (arr[mid] == element):\n",
    "            return arr[mid]\n",
    "        elif (arr[mid] < element):\n",
    "            start = mid + 1\n",
    "        elif (arr[mid] > element):\n",
    "            res = arr[mid]\n",
    "            end = mid -1\n",
    "    return res\n",
    "            \n",
    "\n",
    "arr= [1,2,3,4,8,10,10,12,19]\n",
    "element = 20\n",
    "\n",
    "print(ceil_element(arr, element))"
   ]
  },
  {
   "cell_type": "code",
   "execution_count": null,
   "id": "e969e2bd",
   "metadata": {},
   "outputs": [],
   "source": []
  },
  {
   "cell_type": "markdown",
   "id": "302cc5a4",
   "metadata": {},
   "source": [
    "Next Alphabetical Element"
   ]
  },
  {
   "cell_type": "code",
   "execution_count": 74,
   "id": "43e1deb0",
   "metadata": {},
   "outputs": [
    {
     "name": "stdout",
     "output_type": "stream",
     "text": [
      "0\n"
     ]
    }
   ],
   "source": [
    "def find_next_alphabet(arr, letter):\n",
    "    start = 0\n",
    "    end = len(arr) -1\n",
    "    res = '0'\n",
    "    \n",
    "    while (start <= end):\n",
    "        \n",
    "        mid = start + (end - start) //2\n",
    "        \n",
    "        if (arr[mid] == letter):\n",
    "            start = mid + 1\n",
    "        elif (arr[mid] < letter):\n",
    "            start = mid + 1\n",
    "        elif (arr[mid] > letter):\n",
    "            res = arr[mid]\n",
    "            end = mid -1\n",
    "    return res\n",
    "\n",
    "\n",
    "arr = ['a', 'c', 'f', 'h']\n",
    "letter = 'j'\n",
    "\n",
    "print(find_next_alphabet(arr, letter))"
   ]
  },
  {
   "cell_type": "code",
   "execution_count": null,
   "id": "8c531efe",
   "metadata": {},
   "outputs": [],
   "source": []
  },
  {
   "cell_type": "markdown",
   "id": "2bbd6235",
   "metadata": {},
   "source": [
    "Find position of an element in an Infinite Sorted Array"
   ]
  },
  {
   "cell_type": "code",
   "execution_count": 119,
   "id": "d0b57c73",
   "metadata": {},
   "outputs": [
    {
     "name": "stdout",
     "output_type": "stream",
     "text": [
      "18\n"
     ]
    }
   ],
   "source": [
    "def key_position(arr, key):\n",
    "    start = 0\n",
    "    end = 1\n",
    "\n",
    "    while (key > arr[end]):\n",
    "        start = end\n",
    "        \n",
    "        if ( end * 2 < len(arr) -1 ):\n",
    "            end = end * 2\n",
    "        else:\n",
    "            end = len(arr) -1\n",
    "    \n",
    "    \n",
    "    while (start <= end):\n",
    "        mid = start + (end - start) // 2\n",
    "        if (arr[mid] == key):\n",
    "            return mid\n",
    "        elif (arr[mid] > key):\n",
    "            end = mid -1\n",
    "        else:\n",
    "            start = mid + 1\n",
    "    return -1\n",
    "            \n",
    "arr = [1,2,3,4,5,6,6,8,9,10,11,34,56,82,97,103,137,148,191]\n",
    "#        0 1 2 3 4 5 6 7 8 9  10 11 12 13 14 15  16  17  18 \n",
    "key = 191\n",
    "\n",
    "\n",
    "print(key_position(arr, key))"
   ]
  },
  {
   "cell_type": "code",
   "execution_count": null,
   "id": "2e1f199e",
   "metadata": {},
   "outputs": [],
   "source": []
  },
  {
   "cell_type": "markdown",
   "id": "1b663a8f",
   "metadata": {},
   "source": [
    "Index of First 1 in a Binary Sorted Infinite Array"
   ]
  },
  {
   "cell_type": "code",
   "execution_count": 126,
   "id": "9fd8b44f",
   "metadata": {},
   "outputs": [
    {
     "name": "stdout",
     "output_type": "stream",
     "text": [
      "7\n"
     ]
    }
   ],
   "source": [
    "def find_first_One(arr, element):\n",
    "    start = 0\n",
    "    end =1\n",
    "    res = -1\n",
    "    \n",
    "    while( element > arr[end]):\n",
    "        start = end\n",
    "        if (end * 2 < len(arr) -1):\n",
    "            end = end * 2\n",
    "        else:\n",
    "            end = len(arr) -1\n",
    "            \n",
    "    while( start <= end):\n",
    "        \n",
    "        mid = start + (end - start) // 2\n",
    "        \n",
    "        if (arr[mid] == element):\n",
    "            res = mid\n",
    "            end = mid -1\n",
    "        elif (arr[mid] > element):\n",
    "            end  = mid -1\n",
    "        else:\n",
    "            start = mid + 1\n",
    "    return res\n",
    "\n",
    "\n",
    "arr= [0,0,0,0,0,0,0,1,1,1,1,1,1,1,1,1,1,1,1,1,2]\n",
    "element = 1\n",
    "\n",
    "print(find_first_One(arr, element))"
   ]
  },
  {
   "cell_type": "code",
   "execution_count": null,
   "id": "768ed304",
   "metadata": {},
   "outputs": [],
   "source": []
  },
  {
   "cell_type": "markdown",
   "id": "9cbb743d",
   "metadata": {},
   "source": [
    "Minimum Difference Element in a Sorted Array"
   ]
  },
  {
   "cell_type": "code",
   "execution_count": null,
   "id": "edb1ac20",
   "metadata": {},
   "outputs": [],
   "source": []
  }
 ],
 "metadata": {
  "kernelspec": {
   "display_name": "Python 3 (ipykernel)",
   "language": "python",
   "name": "python3"
  },
  "language_info": {
   "codemirror_mode": {
    "name": "ipython",
    "version": 3
   },
   "file_extension": ".py",
   "mimetype": "text/x-python",
   "name": "python",
   "nbconvert_exporter": "python",
   "pygments_lexer": "ipython3",
   "version": "3.9.12"
  }
 },
 "nbformat": 4,
 "nbformat_minor": 5
}
